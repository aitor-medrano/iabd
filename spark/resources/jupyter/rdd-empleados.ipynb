{
 "cells": [
  {
   "cell_type": "code",
   "execution_count": 4,
   "id": "6f3774ef-99b5-47c8-8746-fe1e8c3ed87c",
   "metadata": {},
   "outputs": [],
   "source": [
    "\n",
    "from pyspark.sql import SparkSession\n",
    "\n",
    "spark = SparkSession.builder.getOrCreate()\n",
    "sc = spark.sparkContext"
   ]
  },
  {
   "cell_type": "code",
   "execution_count": 5,
   "id": "64d3b206-7e59-404c-9613-0bb0d029a907",
   "metadata": {},
   "outputs": [],
   "source": [
    "listaTuplas = [('a',1), ('z',3), ('b',4), ('c',3), ('a',4)]\n",
    "rddTuplas = sc.parallelize(listaTuplas)"
   ]
  },
  {
   "cell_type": "code",
   "execution_count": 6,
   "id": "1c3606ac-9251-435e-b83b-6a554c563757",
   "metadata": {},
   "outputs": [],
   "source": [
    "claves = rddTuplas.keys()       # ['a', 'z', 'b', 'c', 'a']\n",
    "valores = rddTuplas.values()    # [1, 3, 4, 3, 4]"
   ]
  },
  {
   "cell_type": "code",
   "execution_count": 7,
   "id": "6cf0a789-7da5-4a75-b0ec-223b097a3eb2",
   "metadata": {},
   "outputs": [],
   "source": [
    "rddMapValues = rddTuplas.mapValues(lambda x: (x,x*2))\n",
    "# [('a', (1, 2)), ('z', (3, 6)), ('b', (4, 8)), ('c', (3, 6)), ('a', (4, 8))]\n",
    "rddFMV = rddTuplas.flatMapValues(lambda x: (x,x*2))"
   ]
  },
  {
   "cell_type": "code",
   "execution_count": 9,
   "id": "d4f972b7-323d-41de-aa27-7590ac51c12a",
   "metadata": {},
   "outputs": [
    {
     "data": {
      "text/plain": [
       "[('a', 1),\n",
       " ('a', 2),\n",
       " ('z', 3),\n",
       " ('z', 6),\n",
       " ('b', 4),\n",
       " ('b', 8),\n",
       " ('c', 3),\n",
       " ('c', 6),\n",
       " ('a', 4),\n",
       " ('a', 8)]"
      ]
     },
     "execution_count": 9,
     "metadata": {},
     "output_type": "execute_result"
    }
   ],
   "source": [
    "rddFMV.collect()"
   ]
  },
  {
   "cell_type": "code",
   "execution_count": null,
   "id": "7fd1e4b4-6157-4659-bba6-67a21f356708",
   "metadata": {},
   "outputs": [],
   "source": []
  }
 ],
 "metadata": {
  "kernelspec": {
   "display_name": "Python 3 (ipykernel)",
   "language": "python",
   "name": "python3"
  },
  "language_info": {
   "codemirror_mode": {
    "name": "ipython",
    "version": 3
   },
   "file_extension": ".py",
   "mimetype": "text/x-python",
   "name": "python",
   "nbconvert_exporter": "python",
   "pygments_lexer": "ipython3",
   "version": "3.11.6"
  }
 },
 "nbformat": 4,
 "nbformat_minor": 5
}

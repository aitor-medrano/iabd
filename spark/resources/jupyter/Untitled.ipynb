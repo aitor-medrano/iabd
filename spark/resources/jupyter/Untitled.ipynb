{
 "cells": [
  {
   "cell_type": "code",
   "execution_count": 5,
   "id": "6f3774ef-99b5-47c8-8746-fe1e8c3ed87c",
   "metadata": {},
   "outputs": [],
   "source": [
    "from pyspark.sql import SparkSession\n",
    "\n",
    "spark = SparkSession.builder.getOrCreate()\n",
    "sc = spark.sparkContext"
   ]
  },
  {
   "cell_type": "code",
   "execution_count": 6,
   "id": "c4e1f06f-f3d5-4de5-855b-6bacb257097e",
   "metadata": {},
   "outputs": [],
   "source": [
    "rddLocal = sc.textFile(\"../empleados.txt\")"
   ]
  },
  {
   "cell_type": "code",
   "execution_count": 7,
   "id": "ad34044d-a62a-4096-8f51-b1a33bdbb2b4",
   "metadata": {},
   "outputs": [
    {
     "data": {
      "text/plain": [
       "4"
      ]
     },
     "execution_count": 7,
     "metadata": {},
     "output_type": "execute_result"
    }
   ],
   "source": [
    "rddLocal.count()                 # 4 - cantidad de líneas"
   ]
  },
  {
   "cell_type": "code",
   "execution_count": 8,
   "id": "fde5273a-2276-4c25-bd6a-3b8c8fc992ca",
   "metadata": {},
   "outputs": [],
   "source": [
    "resultRDD = rddLocal.map(len)    # obtenemos la cantidad de caracteres de cada línea"
   ]
  },
  {
   "cell_type": "code",
   "execution_count": 9,
   "id": "a49ab249-537c-45f9-89c6-480211540c68",
   "metadata": {},
   "outputs": [
    {
     "data": {
      "text/plain": [
       "[61, 52, 60, 50]"
      ]
     },
     "execution_count": 9,
     "metadata": {},
     "output_type": "execute_result"
    }
   ],
   "source": [
    "resultRDD.collect()   "
   ]
  },
  {
   "cell_type": "code",
   "execution_count": 10,
   "id": "ae64bc0b-a9d6-49c9-b21d-0a18221f7fdb",
   "metadata": {},
   "outputs": [],
   "source": [
    "resultMap = rddLocal.map(lambda x: x.split(\"|\"))"
   ]
  },
  {
   "cell_type": "code",
   "execution_count": 11,
   "id": "b6619105-5ea2-47fd-aeae-00df9e8c1025",
   "metadata": {},
   "outputs": [
    {
     "data": {
      "text/plain": [
       "[['Michael',\n",
       "  'Montreal,Toronto',\n",
       "  'Male,30',\n",
       "  'DB:80',\n",
       "  'Product:Developer\\x04Lead'],\n",
       " ['Will', 'Montreal', 'Male,35', 'Perl:85', 'Product:Lead,Test:Lead'],\n",
       " ['Shelley', 'New York', 'Female,27', 'Python:80', 'Test:Lead,COE:Architect'],\n",
       " ['Lucy', 'Vancouver', 'Female,57', 'Sales:89,HR:94', 'Sales:Lead']]"
      ]
     },
     "execution_count": 11,
     "metadata": {},
     "output_type": "execute_result"
    },
    {
     "name": "stderr",
     "output_type": "stream",
     "text": [
      "----------------------------------------\n",
      "Exception occurred during processing of request from ('127.0.0.1', 60824)\n",
      "Traceback (most recent call last):\n",
      "  File \"/opt/conda/lib/python3.11/socketserver.py\", line 317, in _handle_request_noblock\n",
      "    self.process_request(request, client_address)\n",
      "  File \"/opt/conda/lib/python3.11/socketserver.py\", line 348, in process_request\n",
      "    self.finish_request(request, client_address)\n",
      "  File \"/opt/conda/lib/python3.11/socketserver.py\", line 361, in finish_request\n",
      "    self.RequestHandlerClass(request, client_address, self)\n",
      "  File \"/opt/conda/lib/python3.11/socketserver.py\", line 755, in __init__\n",
      "    self.handle()\n",
      "  File \"/usr/local/spark/python/pyspark/accumulators.py\", line 295, in handle\n",
      "    poll(accum_updates)\n",
      "  File \"/usr/local/spark/python/pyspark/accumulators.py\", line 267, in poll\n",
      "    if self.rfile in r and func():\n",
      "                           ^^^^^^\n",
      "  File \"/usr/local/spark/python/pyspark/accumulators.py\", line 271, in accum_updates\n",
      "    num_updates = read_int(self.rfile)\n",
      "                  ^^^^^^^^^^^^^^^^^^^^\n",
      "  File \"/usr/local/spark/python/pyspark/serializers.py\", line 596, in read_int\n",
      "    raise EOFError\n",
      "EOFError\n",
      "----------------------------------------\n"
     ]
    }
   ],
   "source": [
    "resultMap.collect()"
   ]
  },
  {
   "cell_type": "code",
   "execution_count": null,
   "id": "7274eec5-469e-416d-bc36-8770b4845ed7",
   "metadata": {},
   "outputs": [],
   "source": []
  }
 ],
 "metadata": {
  "kernelspec": {
   "display_name": "Python 3 (ipykernel)",
   "language": "python",
   "name": "python3"
  },
  "language_info": {
   "codemirror_mode": {
    "name": "ipython",
    "version": 3
   },
   "file_extension": ".py",
   "mimetype": "text/x-python",
   "name": "python",
   "nbconvert_exporter": "python",
   "pygments_lexer": "ipython3",
   "version": "3.11.6"
  }
 },
 "nbformat": 4,
 "nbformat_minor": 5
}
